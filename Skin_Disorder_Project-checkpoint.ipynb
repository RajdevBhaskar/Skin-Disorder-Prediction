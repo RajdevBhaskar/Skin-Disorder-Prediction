{
 "cells": [
  {
   "cell_type": "code",
   "execution_count": 1,
   "metadata": {
    "id": "qXrSlqJzmD_c"
   },
   "outputs": [
    {
     "ename": "ModuleNotFoundError",
     "evalue": "No module named 'google.colab'",
     "output_type": "error",
     "traceback": [
      "\u001b[1;31m---------------------------------------------------------------------------\u001b[0m",
      "\u001b[1;31mModuleNotFoundError\u001b[0m                       Traceback (most recent call last)",
      "Cell \u001b[1;32mIn[1], line 1\u001b[0m\n\u001b[1;32m----> 1\u001b[0m \u001b[38;5;28;01mfrom\u001b[39;00m \u001b[38;5;21;01mgoogle\u001b[39;00m\u001b[38;5;21;01m.\u001b[39;00m\u001b[38;5;21;01mcolab\u001b[39;00m \u001b[38;5;28;01mimport\u001b[39;00m drive\n",
      "\u001b[1;31mModuleNotFoundError\u001b[0m: No module named 'google.colab'"
     ]
    }
   ],
   "source": [
    "from google.colab import drive #importing google drive"
   ]
  },
  {
   "cell_type": "code",
   "execution_count": null,
   "metadata": {
    "colab": {
     "base_uri": "https://localhost:8080/"
    },
    "id": "w5J7w526mLM7",
    "outputId": "f22af7c0-aa1b-443b-bb59-61e700ba0e3f"
   },
   "outputs": [],
   "source": [
    "drive.mount('/content/drive') #mounting the drive"
   ]
  },
  {
   "cell_type": "code",
   "execution_count": null,
   "metadata": {
    "id": "345aoL1Ci0RV"
   },
   "outputs": [],
   "source": [
    "#importing the liabriries\n",
    "import pandas as pd\n",
    "import numpy as np\n",
    "import matplotlib.pyplot as plt\n",
    "%matplotlib inline\n",
    "import seaborn as sns\n",
    "import warnings\n",
    "warnings.filterwarnings('ignore')"
   ]
  },
  {
   "cell_type": "markdown",
   "metadata": {
    "id": "Hi7NqMwqk40H"
   },
   "source": [
    "## **Business Case-**\n",
    "\n",
    "\n",
    "*   Create a predictive model using machine learning techniques to predict the various classes of skin disease.\n",
    "\n",
    "#### **Dataset Information**\n",
    "\n",
    "##### **Class**\n",
    "*   1: psoriasis\n",
    "*   2: seboreic dermatitis\n",
    "*   3: lichen planus\n",
    "*   4: pityriasis rosea\n",
    "*   5: cronic dermatitis\n",
    "*   6: pityriasis rubra pilaris\n",
    "\n",
    "##### **Family History**\n",
    "*   0: Diseases has been observed in the family\n",
    "*   1: Diseases has been not observed in the family\n",
    "\n",
    "##### **Age**\n",
    "*   Age feature simply represents the age of the patient\n",
    "\n",
    "##### **Other feature (clinical and histopathological)**\n",
    "\n",
    "*   0: indicates that the feature was not present\n",
    "*   1,2: indicate the relative intermediate values\n",
    "*   3: indicates the largest amount possible\n",
    "\n",
    "\n",
    "\n",
    "\n",
    "\n",
    "\n",
    "\n"
   ]
  },
  {
   "cell_type": "code",
   "execution_count": null,
   "metadata": {
    "id": "gzpe92-JlqYF"
   },
   "outputs": [],
   "source": [
    "data = pd.read_csv('/content/drive/MyDrive/Rubixe Projects/Skin Disorder Project/dataset_35_dermatology (1).csv') #loading the dataset"
   ]
  },
  {
   "cell_type": "code",
   "execution_count": null,
   "metadata": {
    "colab": {
     "base_uri": "https://localhost:8080/",
     "height": 461
    },
    "id": "0wE-y-vQmkQn",
    "outputId": "92f8abe5-3c8f-4ce8-a127-62815ac571ef"
   },
   "outputs": [],
   "source": [
    "data"
   ]
  },
  {
   "cell_type": "code",
   "execution_count": null,
   "metadata": {
    "colab": {
     "base_uri": "https://localhost:8080/"
    },
    "id": "9wBc35RooaK0",
    "outputId": "fe216b43-7ad5-4529-c961-a795a39f24a0"
   },
   "outputs": [],
   "source": [
    "data.columns"
   ]
  },
  {
   "cell_type": "code",
   "execution_count": null,
   "metadata": {
    "id": "Y_z0x1vtsCNq"
   },
   "outputs": [],
   "source": [
    "pd.set_option(\"display.max_columns\", None)"
   ]
  },
  {
   "cell_type": "code",
   "execution_count": null,
   "metadata": {
    "colab": {
     "base_uri": "https://localhost:8080/",
     "height": 244
    },
    "id": "nIp8qrp8mmdD",
    "outputId": "82bedba5-3e5c-406d-b54b-1cd8cd899fe6"
   },
   "outputs": [],
   "source": [
    "data.head()"
   ]
  },
  {
   "cell_type": "code",
   "execution_count": null,
   "metadata": {
    "colab": {
     "base_uri": "https://localhost:8080/",
     "height": 244
    },
    "id": "s1Tek9nem24u",
    "outputId": "0e081b41-524c-4edb-fc7a-e6e51938aedc"
   },
   "outputs": [],
   "source": [
    "data.tail()"
   ]
  },
  {
   "cell_type": "markdown",
   "metadata": {
    "id": "chGVFAU5nBqJ"
   },
   "source": [
    "## Basic Checks"
   ]
  },
  {
   "cell_type": "code",
   "execution_count": null,
   "metadata": {
    "colab": {
     "base_uri": "https://localhost:8080/"
    },
    "id": "d4XUxvNsm9Ik",
    "outputId": "65046d73-fec8-4e41-f2a9-78127c748ee5"
   },
   "outputs": [],
   "source": [
    "data.info()"
   ]
  },
  {
   "cell_type": "markdown",
   "metadata": {
    "id": "BSp7yYUIsYM5"
   },
   "source": [
    "### **Insights**\n",
    "\n",
    "*   The Age column is in object, we have to convert it into integer\n",
    "\n"
   ]
  },
  {
   "cell_type": "code",
   "execution_count": null,
   "metadata": {
    "colab": {
     "base_uri": "https://localhost:8080/",
     "height": 338
    },
    "id": "6lMeRv3_szoc",
    "outputId": "e9297226-c8f3-4433-a744-5cb5f13f799e"
   },
   "outputs": [],
   "source": [
    "data.describe()"
   ]
  },
  {
   "cell_type": "markdown",
   "metadata": {
    "id": "Ko4jyOyxt4io"
   },
   "source": [
    "## Exploratory Data Analysis"
   ]
  },
  {
   "cell_type": "code",
   "execution_count": null,
   "metadata": {
    "colab": {
     "base_uri": "https://localhost:8080/",
     "height": 1000,
     "referenced_widgets": [
      "0ed76f86d02f4ae1a95ca37170357fad",
      "9cfa3e4eb2a649a18551d0149cf56d9b",
      "e3a4dde556014c7f9427578d157da728",
      "d60d7d99d8574dccb86a2f029af39e78",
      "a4d29c7115894a88900e1ea96a2092c3",
      "0b46dba713994f13b5ded5aa6459205c",
      "30e37698ddff4fc5a1b4e2b3be49fb38",
      "6060634e2a094494a733cd7d1df8c408",
      "ab96546d98b146ea87758143fc7d9bd4",
      "696ccdd9ffee44c38b0ced32759ad88a",
      "93e62c2e94fa4b0394be330e7f84ba6b"
     ]
    },
    "id": "8JmVZe22yUfW",
    "outputId": "c5b7d9a7-5285-4d82-ed58-a41647485234"
   },
   "outputs": [],
   "source": [
    "!pip install sweetviz\n",
    "import sweetviz as sv\n",
    "report = sv.analyze(data)\n",
    "report.show_notebook()"
   ]
  },
  {
   "cell_type": "code",
   "execution_count": null,
   "metadata": {
    "colab": {
     "base_uri": "https://localhost:8080/",
     "height": 1000
    },
    "id": "a_5WSRhltc90",
    "outputId": "03fe3b2e-280e-4f46-cd61-c088c286df86"
   },
   "outputs": [],
   "source": [
    "plt.figure(figsize=(100,100))\n",
    "plotnum=1\n",
    "for col in data:\n",
    "  plt.subplot(7,5,plotnum)\n",
    "  sns.histplot(data[col],color='green')\n",
    "  plotnum+=1\n",
    "plt.tight_layout()"
   ]
  },
  {
   "cell_type": "markdown",
   "metadata": {
    "id": "3-7979DY10cK"
   },
   "source": [
    "### **Insights-**\n",
    "*   In erythema,scaling,definite borders,acanthosis inflammatory_monoluclear_inflitrate most of the patient having **Relative Intermediate problem**.\n",
    "*   In itiching most of the Patient having **No itiching problems,Relative Intermediate problem** and around 80 having high chance of itching.\n",
    "*   In koebner_phenomenon,polygonal_papules,folicular_papules,polygonal_papules,oral_mucosal_involvement, knee_and_elbow_involvement,scalp_involvement,melanin_incontinence,eosinophils_in_the_infiltrate, PNL_infiltrate,fibrosis_of_the_papillary_dermis,hyperkeratosis,clubbing_of_the_rete_ridges,elongation_of_the_rete_ridges, thinning_of_the_suprapapillary_epidermis,spongiform_pustule,munro_microabcess,focal_hypergranulosis, disappearance_of_the_granular_layer,vacuolisation_and_damage_of_basal_layer,spongiosis,sawtooth_appearance_of_retes, follicular_horn_plug,perifollicular_parakeratosis,band-like_infiltrate, most of the patient having **no problem**.\n",
    "*   In family history more than **80%** patient family has **no skin dieases**.\n",
    "*   In exocytosis,parakeratosis most of the patient having **no problem and intermediate skin problem**.\n",
    "*   In class most of the patient having no problem and another class has almost similar petient.\n",
    "\n"
   ]
  },
  {
   "cell_type": "code",
   "execution_count": null,
   "metadata": {
    "colab": {
     "base_uri": "https://localhost:8080/",
     "height": 1000
    },
    "id": "iyCG9SkOvIHG",
    "outputId": "d39bf163-f4e1-4103-811f-bc0032e466d7"
   },
   "outputs": [],
   "source": [
    "plt.figure(figsize=(50,50))\n",
    "plotnumber=1\n",
    "for i in data:\n",
    "    plt.subplot(7,5,plotnumber)\n",
    "    sns.countplot(x=data[i],y=None,hue=data[\"class\"])\n",
    "    plotnumber=plotnumber+1\n",
    "plt.tight_layout()"
   ]
  },
  {
   "cell_type": "markdown",
   "metadata": {
    "id": "4exehTV958D2"
   },
   "source": [
    "## **Insights-**\n",
    "#### where feature is not present.\n",
    "\n",
    "\n",
    "*   A Patient who has feature not present in itiching,koebner phenomnen,polygonal papules,folicular papules,oral mucosal involvement,melanin incontinece,eosinophils_in_the_infiltrate,PNL filtrate,fibrosis_of_the_papillary_dermis,exocythsis, hyperkeartosis,spongiform pustle,munro microbcess,focal hypergranulosis,disappearance_of_the_granular_layer, vacuolisation_and_damage_of_basal_layer,spongiosis,saw teeth apperance of the retes,folicular horn plug,perifolicular parakeratosis,band like infiltrate they all have highest chance of having class 1 (psoriasis) skin dieases problem.\n",
    "*   A Patient who has feature not present in definite border,koebner phenomnen,polygonal papules,folicular papules,oral_mucosal_involvement,knee and elbow envolvement,scalp envolvement,melanin_incontinence, eosinophils_in_the_infiltrate,fibrosis_of_the_papillary_dermis,aconthosis,hyperkeratosis,perakeratosis, clubbing_of_the_rete_ridges,elongation_of_the_rete_ridges,thinning_of_the_suprapapillary_epidermis,spongiform_pustule, munro_microabcess,focal_hypergranulosis,disappearance_of_the_granular_layer,vacuolisation_and_damage_of_basal_layer,saw- tooth_appearance_of_retes,follicular_horn_plug,perifollicular_parakeratosis,inflammatory_monoluclear_inflitrate,band- like_infiltrate they have highest chance of having class 2 (seboreic dermatitis) skin dieases problem.\n",
    "*  A Patient who has feature not present in koebner_phenomenon,folicular papules,knee and elbow envolvement,scalp envolvement,eosinophils_in_the_infiltrate,PNL inflitrate,fibrosis_of_the_papillary_dermis,hyperleratosis,perekeratosis, clubbing_of_the_rete_ridges,elongation_of_the_rete_ridges,thinning_of_the_suprapapillary_epidermis,spongiform pustule, munro_microabcess,disappearance_of_the_granular_layer,spongisis,perifollicular_parakeratosis they have highest chance of having class 3 (lichen planus) skin disorder problem.\n",
    "*   A Patient who has feature not present in definite border,itiching,koebner_phenomenon,polygonals papules,folicular papules,oral_mucosal_involvement,knee_and_elbow_involvement,scalp involvement,melanin_incontinence, eosinophils_in_the_infiltrate,PNL infiltrate,fibrosis_of_the_papillary_dermis,acanthosis,hyperkeratosis,perekeratosis, clubbing_of_the_rete_ridges,elongation_of_the_rete_ridges,thinning_of_the_suprapapillary_epidermis,spongiform_pustule, munro_microabcess,focal_hypergranulosis,disappearance_of_the_granular_layer,vacuolisation_and_damage_of_basal_layer, saw- tooth_appearance_of_retes,follicular_horn_plug,perifollicular_parakeratosis,band-like_infiltrate they all have highest chance of having class 4 (pityriasis rosea) skin dieases problem.\n",
    "*   A Patient who has feature not present in erythema,definite border,scaling,itiching,koebner phenomnen,polygonal_papules, follicular_papules,oral_mucosal_involvement,knee_and_elbow_involvement,scalp involvement,melanin_incontinence, eosinophils_in_the_infiltrate,PNL infiltrate,exocytosis,hyperkeratosis,perakeratosis,clubbing_of_the_rete_ridges, thinning_of_the_suprapapillary_epidermis,spongiform_pustule,munro_microabcess,focal_hypergranulosis, disappearance_of_the_granular_layer,vacuolisation_and_damage_of_basal_layer,spongiosis,saw-tooth_appearance_of_retes, folicular horn plug,perifollicular_parakeratosis,band-like_infiltrate they all have highest chance of having class 5 (cronic dermatitis) skin disorder problem.\n",
    "*   A Patient who has feature not present in definite border,itiching,koebner_phenomenon,polygonal papules,munro_microabcess, oral_mucosal_involvement,scalp involvement,melanin_incontinence,eosinophils_in_the_infiltrate,PNL inftitrate, fibrosis_of_the_papillary_dermis,clubbing_of_the_rete_ridges,elongation_of_the_rete_ridges,spongiform_pustule, thinning_of_the_suprapapillary_epidermis,focal_hypergranulosis,disappearance_of_the_granular_layer,saw- tooth_appearance_of_retes,vacuolisation_and_damage_of_basal_layer,band-like_infiltrate they all have highest chance of having class 6 (pityriasis rubra pilaris) skin disorder problem.\n",
    "\n",
    "\n",
    "#### Intermediate level of skin dieases.\n",
    "\n",
    "*   A Patient who has intermediate level of erythema,scaling,definite border,knee and elbow envolvement,scalp envolvement,PNL infitrate,acanthosis,hyperkertosis,parakeratosis,clubbing of the rate ridge,elegation of the rate ridge,sponiform pustle,munro microbsess,disapperiance of the granular layer,inflammatory monoluclear inifitrate they all have highest chance of having class 1 (psoriasis) skin disorder problem.\n",
    "*   A Patient who has intermediate level of erythema,scaling,definite border,itiching,koebner phonomenon,poligonal papules,oral mucosal invlovement,melanin incontience,exocytosis,acanthosis,focal hypergranulosis,vacuolisation and damage of base layer,saw tooth apperance of retes,inflammatory monocular inflitrate they all have highest chance og having class 3 (lichen planus) skin dieases problem.\n",
    "*   A Patient who has intermediate level of erythema,scaling,itiching,PNLinflatrate,expcytosis,acanthosis,spngosis, inflammatory monoluclear inifitrate they all have highest chance of having class 2 (seboreic dermatitis) skin dieases problem.\n",
    "*   A Patient who has intermediate level of erythema,scaling,definite border,koebner phonemnon,exocytosis,acanthosis,perakeratosis,spongiosis,inflammatory monoluclear inifitrate they all have highest chance of having class 4 (pityriasis rosea) skin dieases problem.\n",
    "*   A Patient who has intermediate level of erythema,itiching,fibrosis of the papilarydermis,aconthosis,hyperkeratosis, perakeratosis,elegation of the rete ridges,inflammatory monoluclear inifitrate they all have highest chance of having class 5 (cronic dermatitis) skin dieases problem.\n",
    "*   A Patient who has intermediate level of erythema,scaling,folicular papules,knee and elbow envolvement,scalp involvement,acanthosis,hyperkeartosis,folicular horn plug,perifolicular perakeratosis they all have highest chance of having class 6 (pityriasis rubra pilaris) skin dieases problem.\n",
    "\n",
    "\n",
    "#### High chances of skin dieases.\n",
    "\n",
    "*   A Patient who have largest amount possible of erythema,scaling,definite border,itiching,knee and elbow envolvement,scalp envolvement,PNL infiltrate,acanthosis,hyperkeratosis,perekeratosis,clubbing_of_the_rete_ridges, elongation_of_the_rete_ridges,thinning_of_the_suprapapillary_epidermis,spongiform_pustule,munro_microabcess, disappearance_of_the_granular_layer,inflammatory_monoluclear_inflitrate they all have highest chance of having class 1 (psoriasis) skin disorder problem.\n",
    "*   A Patient who have largest amount possible of erythema,scaling,itiching,eosinophils_in_the_infiltrate,PNL infiltrate,exocytosis,acanthosis,spongiosis,inflammatory_monoluclear_inflitrate they all have highest chance of having class 2 (seboreic dermatitis) skin disorder problem.\n",
    "*   A Patient who have largest amount possible of erythema,scaling,definite border,itiching,koebner_phenomenon, polygonal_papules,band-like_infiltrate oral_mucosal_involvement,melanin_incontinence,exocytosis,acanthosis, focal_hypergranulosis,spongiosis,vacuolisation_and_damage_of_basal_layer,saw-tooth_appearance_of_retes, inflammatory_monoluclear_inflitrate they all having highest chance of class 3 (lichen planus) skin disorder problem.\n",
    "*   A Patient who have largest amount possible of erythema,koebner_phenomenon,exocytosis,spongiosis, inflammatory_monoluclear_inflitrate they all have highest chance of having class 4 (pityriasis rosea) skin disorder problem.\n",
    "*   A Patient who have largest amount possible of erythema,scaling,definite border,itiching,fibrosis_of_the_papillary_dermis, acanthosis,elongation_of_the_rete_ridges,inflammatory_monoluclear_inflitrate they all have highest chance of having class 5 (cronic dermatitis) skin disorder problem.\n",
    "*   A Patient who have largest amount possible of erythema,follicular_papules,knee_and_elbow_involvement,exocytosis, spongiosis,follicular_horn_plug,perifollicular_parakeratosis,inflammatory_monoluclear_inflitrate they all have highest chance of having class 6 (pityriasis rubra pilaris) skin disorder problem.\n",
    "*   Patient whose family has no skin dieases they have high chance of having class 1 and 3, and 50-50% chance of 2,4 and 5 and those patient which family has skin dieases they have high chance of having class 1 and 6."
   ]
  },
  {
   "cell_type": "markdown",
   "metadata": {
    "id": "OaCGprok8nn4"
   },
   "source": [
    "## Data Preprocessing"
   ]
  },
  {
   "cell_type": "code",
   "execution_count": null,
   "metadata": {
    "colab": {
     "base_uri": "https://localhost:8080/"
    },
    "id": "hqFfnuG33uY9",
    "outputId": "feb2aa19-4ed9-48e0-a131-53646f059acc"
   },
   "outputs": [],
   "source": [
    "data.info()"
   ]
  },
  {
   "cell_type": "code",
   "execution_count": null,
   "metadata": {
    "colab": {
     "base_uri": "https://localhost:8080/"
    },
    "id": "3l8gvQYD85S_",
    "outputId": "6b926678-4ed4-462f-841e-ef0ede5a5311"
   },
   "outputs": [],
   "source": [
    "data.isnull().sum()"
   ]
  },
  {
   "cell_type": "markdown",
   "metadata": {
    "id": "bWRny8Re9KaE"
   },
   "source": [
    "\n",
    "\n",
    "*   No missing values are available in dataset\n",
    "*   Age variable has object datatype we have to change in integer. and some value are invalid value we have to replace them by help of measure of tendency (mean,median,mode)\n",
    "\n"
   ]
  },
  {
   "cell_type": "code",
   "execution_count": null,
   "metadata": {
    "colab": {
     "base_uri": "https://localhost:8080/"
    },
    "id": "bYnMOjqh89_A",
    "outputId": "8b96017b-3f29-463f-d70b-490b920fe73e"
   },
   "outputs": [],
   "source": [
    "data.loc[data['Age']=='?','Age']"
   ]
  },
  {
   "cell_type": "code",
   "execution_count": null,
   "metadata": {
    "id": "rL5bPL26_WXd"
   },
   "outputs": [],
   "source": [
    "data.loc[data['Age']=='?','Age']=36"
   ]
  },
  {
   "cell_type": "code",
   "execution_count": null,
   "metadata": {
    "colab": {
     "base_uri": "https://localhost:8080/"
    },
    "id": "t-5q-duq-Z4V",
    "outputId": "a9ea0418-036f-4ea4-e1b2-480b9e0592cc"
   },
   "outputs": [],
   "source": [
    "data['Age'].value_counts()"
   ]
  },
  {
   "cell_type": "code",
   "execution_count": null,
   "metadata": {
    "id": "R-TP4gDe-nRP"
   },
   "outputs": [],
   "source": [
    "data['Age']=data['Age'].astype(int)"
   ]
  },
  {
   "cell_type": "code",
   "execution_count": null,
   "metadata": {
    "colab": {
     "base_uri": "https://localhost:8080/"
    },
    "id": "8EFCxct2-25l",
    "outputId": "dabec2d9-53be-45b7-a3c5-c8532de112a7"
   },
   "outputs": [],
   "source": [
    "data.Age.dtype"
   ]
  },
  {
   "cell_type": "code",
   "execution_count": null,
   "metadata": {
    "colab": {
     "base_uri": "https://localhost:8080/",
     "height": 745
    },
    "id": "HyI-gnR-_h7S",
    "outputId": "8aedae92-1286-493d-83fd-78e17b7b7c50"
   },
   "outputs": [],
   "source": [
    "data.loc[data['Age']<11]"
   ]
  },
  {
   "cell_type": "markdown",
   "metadata": {
    "id": "hKWC8wkrAIxF"
   },
   "source": [
    "\n",
    "\n",
    "*   Patient more than 5 and less than 10 age having high chance of having class 6 skin dieases problem\n",
    "\n"
   ]
  },
  {
   "cell_type": "markdown",
   "metadata": {
    "id": "Qu9Wo6XWAe8o"
   },
   "source": [
    "## Feature Selection"
   ]
  },
  {
   "cell_type": "code",
   "execution_count": null,
   "metadata": {
    "colab": {
     "base_uri": "https://localhost:8080/",
     "height": 1000
    },
    "id": "Di4G_l_kAEb6",
    "outputId": "2dd87484-e819-4605-916f-c08d713f6f12"
   },
   "outputs": [],
   "source": [
    "plt.figure(figsize=(30,30))\n",
    "sns.heatmap(data.corr(),annot=True,cmap='RdYlGn')\n",
    "plt.tight_layout()"
   ]
  },
  {
   "cell_type": "markdown",
   "metadata": {
    "id": "oarDO41DiYCY"
   },
   "source": [
    "\n",
    "\n",
    "*   Every feature having good co-relation with target variable, noone feature having more than 95%. So that's why i'm not going to delete any feature.\n",
    "\n"
   ]
  },
  {
   "cell_type": "markdown",
   "metadata": {
    "id": "KssezIULjjCX"
   },
   "source": [
    "## Model Creation"
   ]
  },
  {
   "cell_type": "code",
   "execution_count": null,
   "metadata": {
    "colab": {
     "base_uri": "https://localhost:8080/",
     "height": 461
    },
    "id": "WhcLrE_Rhvqi",
    "outputId": "dc163bab-f27e-4a10-e2e6-4fa92883e8de"
   },
   "outputs": [],
   "source": [
    "x = data.drop('class',axis=1) #creating independent variable\n",
    "x"
   ]
  },
  {
   "cell_type": "code",
   "execution_count": null,
   "metadata": {
    "colab": {
     "base_uri": "https://localhost:8080/"
    },
    "id": "2G228Ybarh8e",
    "outputId": "cb7b5a1b-455e-4394-aa8a-b9eff50c54bb"
   },
   "outputs": [],
   "source": [
    "y = data['class'] #Creating dependent variable\n",
    "y"
   ]
  },
  {
   "cell_type": "code",
   "execution_count": null,
   "metadata": {
    "id": "l2zyzYDirsyn"
   },
   "outputs": [],
   "source": [
    "from sklearn.model_selection import train_test_split #importing train_test_split\n",
    "x_train,x_test,y_train,y_test = train_test_split(x,y,test_size=0.25, random_state=30)"
   ]
  },
  {
   "cell_type": "code",
   "execution_count": null,
   "metadata": {
    "id": "1PocQplWsjaP"
   },
   "outputs": [],
   "source": [
    "#Balancing the data\n",
    "from imblearn.over_sampling import SMOTE\n",
    "sm = SMOTE()"
   ]
  },
  {
   "cell_type": "code",
   "execution_count": null,
   "metadata": {
    "id": "pofYk47ltUGb"
   },
   "outputs": [],
   "source": [
    "x_smote,y_smote = sm.fit_resample(x_train,y_train) #balancing training data"
   ]
  },
  {
   "cell_type": "code",
   "execution_count": null,
   "metadata": {
    "colab": {
     "base_uri": "https://localhost:8080/"
    },
    "id": "ohn3Ev4dtkCL",
    "outputId": "12445a07-69ff-4e93-cb5b-97f3b2cc2376"
   },
   "outputs": [],
   "source": [
    "from collections import Counter\n",
    "print('Actual Classes:',Counter(y_train))\n",
    "print('Smote Classes:',Counter(y_smote))"
   ]
  },
  {
   "cell_type": "code",
   "execution_count": null,
   "metadata": {
    "colab": {
     "base_uri": "https://localhost:8080/",
     "height": 461
    },
    "id": "v136owK8uLVd",
    "outputId": "490b1a55-2438-4aed-d588-b31d3e2242d4"
   },
   "outputs": [],
   "source": [
    "x_train"
   ]
  },
  {
   "cell_type": "code",
   "execution_count": null,
   "metadata": {
    "colab": {
     "base_uri": "https://localhost:8080/"
    },
    "id": "-pd4Qkm1uOqH",
    "outputId": "a21c5685-5e04-4dc7-f8ef-5b77dc945336"
   },
   "outputs": [],
   "source": [
    "y_train"
   ]
  },
  {
   "cell_type": "markdown",
   "metadata": {
    "id": "qlpiG9-mudgt"
   },
   "source": [
    "### Logistic Regression"
   ]
  },
  {
   "cell_type": "code",
   "execution_count": null,
   "metadata": {
    "id": "J16SNeT1uVdI"
   },
   "outputs": [],
   "source": [
    "from sklearn.linear_model import LogisticRegression\n",
    "lr = LogisticRegression(multi_class='ovr')"
   ]
  },
  {
   "cell_type": "code",
   "execution_count": null,
   "metadata": {
    "colab": {
     "base_uri": "https://localhost:8080/",
     "height": 75
    },
    "id": "2jof8Pe39UMD",
    "outputId": "130183df-143e-40e2-da6d-29ff5906323f"
   },
   "outputs": [],
   "source": [
    "lr.fit(x_smote,y_smote)"
   ]
  },
  {
   "cell_type": "code",
   "execution_count": null,
   "metadata": {
    "id": "XSGHY8ZW9siX"
   },
   "outputs": [],
   "source": [
    "#importing metrics for checking score\n",
    "from sklearn.metrics import accuracy_score,precision_score,f1_score,classification_report,confusion_matrix"
   ]
  },
  {
   "cell_type": "code",
   "execution_count": null,
   "metadata": {
    "colab": {
     "base_uri": "https://localhost:8080/"
    },
    "id": "zPgFCZbF_zL4",
    "outputId": "14b92152-7f9c-4139-b7e7-91641862ff86"
   },
   "outputs": [],
   "source": [
    "lr_pred = lr.predict(x_test)\n",
    "lr_pred"
   ]
  },
  {
   "cell_type": "code",
   "execution_count": null,
   "metadata": {
    "colab": {
     "base_uri": "https://localhost:8080/"
    },
    "id": "BxslMN8k_71q",
    "outputId": "99a67e67-0305-4bc3-8921-97817fa05962"
   },
   "outputs": [],
   "source": [
    "acc = accuracy_score(y_test,lr_pred)\n",
    "acc"
   ]
  },
  {
   "cell_type": "code",
   "execution_count": null,
   "metadata": {
    "colab": {
     "base_uri": "https://localhost:8080/"
    },
    "id": "tVK2uc_OAJ4V",
    "outputId": "0e885036-c71a-4a28-997f-dde314f5f98d"
   },
   "outputs": [],
   "source": [
    "f1 = f1_score(y_test,lr_pred,average='weighted')\n",
    "f1"
   ]
  },
  {
   "cell_type": "code",
   "execution_count": null,
   "metadata": {
    "colab": {
     "base_uri": "https://localhost:8080/"
    },
    "id": "EnD6O6leAYIt",
    "outputId": "261b5df8-d333-419e-90c1-cff1da86a794"
   },
   "outputs": [],
   "source": [
    "print(classification_report(y_test,lr_pred))"
   ]
  },
  {
   "cell_type": "code",
   "execution_count": null,
   "metadata": {
    "colab": {
     "base_uri": "https://localhost:8080/"
    },
    "id": "_flgxZHyAlvI",
    "outputId": "10d8c9fb-d291-4ee4-902f-3e9e9130a7e0"
   },
   "outputs": [],
   "source": [
    "confusion_matrix(y_test,lr_pred) #for checking which misclassification happened"
   ]
  },
  {
   "cell_type": "code",
   "execution_count": null,
   "metadata": {
    "colab": {
     "base_uri": "https://localhost:8080/"
    },
    "id": "XAXut5gcA3GO",
    "outputId": "bb0028d2-3810-4316-98ee-ba039dfc488c"
   },
   "outputs": [],
   "source": [
    "#checking cross validation score\n",
    "from sklearn.model_selection import cross_val_score\n",
    "scores = cross_val_score(lr,x,y,cv=3,scoring='accuracy')\n",
    "print(scores)\n",
    "print('Cross Validation Score:',scores.mean())\n",
    "print('Std:',scores.std())\n",
    "#std of < 0.05 is good"
   ]
  },
  {
   "cell_type": "markdown",
   "metadata": {
    "id": "7EwO1sV0RS_B"
   },
   "source": [
    "#### Model Evaluation\n",
    "*   we use sklearn.metrics for getting accuracy score, f1 score, presicion score, recall score, classification report and confusion matrix.\n",
    "*   we use accuracy score for getting how much correction prediction model did,divided by no. of correct prediction by total prediction no.\n",
    "*   we use f1 score for getting how much precision and recall predict correctly."
   ]
  },
  {
   "cell_type": "markdown",
   "metadata": {
    "id": "p5tovICYR0US"
   },
   "source": [
    "### KNN"
   ]
  },
  {
   "cell_type": "code",
   "execution_count": null,
   "metadata": {
    "id": "5ND6dTjAROvT"
   },
   "outputs": [],
   "source": [
    "from sklearn.neighbors import KNeighborsClassifier # import KNeighborsClassifier\n",
    "knn = KNeighborsClassifier(n_neighbors=4)"
   ]
  },
  {
   "cell_type": "code",
   "execution_count": null,
   "metadata": {
    "colab": {
     "base_uri": "https://localhost:8080/",
     "height": 75
    },
    "id": "wkVKCff_SJeh",
    "outputId": "911328e9-001c-444e-da6c-f3615f40eaf6"
   },
   "outputs": [],
   "source": [
    "knn.fit(x_smote,y_smote)"
   ]
  },
  {
   "cell_type": "code",
   "execution_count": null,
   "metadata": {
    "colab": {
     "base_uri": "https://localhost:8080/"
    },
    "id": "cgElax0vSTZs",
    "outputId": "aa16e90d-8dee-45ea-c692-fe44ae15c2f3"
   },
   "outputs": [],
   "source": [
    "knn_pred = knn.predict(x_test)\n",
    "knn_pred"
   ]
  },
  {
   "cell_type": "code",
   "execution_count": null,
   "metadata": {
    "colab": {
     "base_uri": "https://localhost:8080/"
    },
    "id": "pi6TKJb2SdE7",
    "outputId": "3a6f9e20-edec-48fd-c2c3-5931e8b41f11"
   },
   "outputs": [],
   "source": [
    "acc1 = accuracy_score(y_test,knn_pred) #checking Accuracy\n",
    "acc1"
   ]
  },
  {
   "cell_type": "code",
   "execution_count": null,
   "metadata": {
    "colab": {
     "base_uri": "https://localhost:8080/"
    },
    "id": "Y5676pjcSsNi",
    "outputId": "75584091-7ff2-40df-c7b7-d4baae22e7fb"
   },
   "outputs": [],
   "source": [
    "f1_2 = f1_score(y_test,knn_pred,average='weighted')\n",
    "f1_2"
   ]
  },
  {
   "cell_type": "code",
   "execution_count": null,
   "metadata": {
    "colab": {
     "base_uri": "https://localhost:8080/",
     "height": 443
    },
    "id": "-IytJuoDTD4n",
    "outputId": "03a9c56c-125f-4202-acad-6c69d0ddd886"
   },
   "outputs": [],
   "source": [
    "ERROR_RATE = []\n",
    "for i in range(1,13):\n",
    "  knn = KNeighborsClassifier(n_neighbors=i)\n",
    "  knn.fit(x_smote,y_smote)\n",
    "  y_pred = knn.predict(x_test)\n",
    "  error_rate= (y_test != y_pred).sum()/len(y_test)*100\n",
    "  ERROR_RATE.append(error_rate)\n",
    "plt.plot(range(1,13),ERROR_RATE)"
   ]
  },
  {
   "cell_type": "markdown",
   "metadata": {
    "id": "B3xOArQ2UcRE"
   },
   "source": [
    "### SVM"
   ]
  },
  {
   "cell_type": "code",
   "execution_count": null,
   "metadata": {
    "colab": {
     "base_uri": "https://localhost:8080/",
     "height": 75
    },
    "id": "Q8YbF_5ZUHls",
    "outputId": "ec4eb45f-f651-41fb-90d1-af637df19a34"
   },
   "outputs": [],
   "source": [
    "from sklearn.svm import SVC\n",
    "svc = SVC(random_state=10)\n",
    "svc.fit(x_smote,y_smote)"
   ]
  },
  {
   "cell_type": "code",
   "execution_count": null,
   "metadata": {
    "colab": {
     "base_uri": "https://localhost:8080/"
    },
    "id": "pdXOQ3I4Uzgl",
    "outputId": "9e70d51b-da0e-4039-ab24-cf7be7e9a30d"
   },
   "outputs": [],
   "source": [
    "svc_pred = svc.predict(x_test)\n",
    "svc_pred"
   ]
  },
  {
   "cell_type": "code",
   "execution_count": null,
   "metadata": {
    "colab": {
     "base_uri": "https://localhost:8080/"
    },
    "id": "OFwiQhiYU58L",
    "outputId": "ac03e8fa-23cb-483f-ea53-b3777cac9dde"
   },
   "outputs": [],
   "source": [
    "acc2 = accuracy_score(y_test,svc_pred)\n",
    "acc2"
   ]
  },
  {
   "cell_type": "code",
   "execution_count": null,
   "metadata": {
    "colab": {
     "base_uri": "https://localhost:8080/"
    },
    "id": "oefl81MMU_mz",
    "outputId": "927d728e-f72c-436a-d43f-bac134ec8a69"
   },
   "outputs": [],
   "source": [
    "f1_3 = f1_score(y_test,svc_pred,average=\"weighted\") # checking f1 score\n",
    "f1_3"
   ]
  },
  {
   "cell_type": "code",
   "execution_count": null,
   "metadata": {
    "colab": {
     "base_uri": "https://localhost:8080/",
     "height": 1000
    },
    "id": "0ZfItEcrZUDV",
    "outputId": "9b54ead2-1f0e-4a84-99f9-cc19b042af10"
   },
   "outputs": [],
   "source": [
    "from sklearn.model_selection import GridSearchCV\n",
    "\n",
    "# defining parameter range\n",
    "param_grid = {'C': [0.1, 5, 10,50,60,70],\n",
    "              'gamma': [1, 0.1, 0.01, 0.001, 0.0001],\n",
    "             'random_state':(list(range(1, 20)))}\n",
    "model=SVC()\n",
    "grid = GridSearchCV(model, param_grid, refit = True, verbose = 2,scoring='accuracy',cv=5)\n",
    "\n",
    "# fitting the model for grid search\n",
    "grid.fit(x,y)"
   ]
  },
  {
   "cell_type": "code",
   "execution_count": null,
   "metadata": {
    "colab": {
     "base_uri": "https://localhost:8080/"
    },
    "id": "my5n5yGMZcjq",
    "outputId": "640ea955-02ed-4391-de0a-abe166893cd4"
   },
   "outputs": [],
   "source": [
    "print(grid.best_params_) # checking best parameters"
   ]
  },
  {
   "cell_type": "code",
   "execution_count": null,
   "metadata": {
    "id": "tr6xcldWZ3yT"
   },
   "outputs": [],
   "source": [
    "clf=SVC(C=10, gamma=0.001,random_state=1) ##put best parameters for best score"
   ]
  },
  {
   "cell_type": "code",
   "execution_count": null,
   "metadata": {
    "colab": {
     "base_uri": "https://localhost:8080/",
     "height": 75
    },
    "id": "3_AW5YpKZ61A",
    "outputId": "ec48dcc6-5a5f-4ca0-afd2-0c8a0f2babe3"
   },
   "outputs": [],
   "source": [
    "clf.fit(x_smote, y_smote) # fit the model with best parameters"
   ]
  },
  {
   "cell_type": "code",
   "execution_count": null,
   "metadata": {
    "id": "XnCVDg6ZZ9bG"
   },
   "outputs": [],
   "source": [
    "y_clf=clf.predict(x_test) # predict the model"
   ]
  },
  {
   "cell_type": "code",
   "execution_count": null,
   "metadata": {
    "colab": {
     "base_uri": "https://localhost:8080/"
    },
    "id": "6HJXRLCyZ_-2",
    "outputId": "fbf19564-b1be-49b8-f012-9ed9938faf71"
   },
   "outputs": [],
   "source": [
    "acc_hy = accuracy_score(y_test,y_clf) # checking accuracy score\n",
    "acc_hy"
   ]
  },
  {
   "cell_type": "markdown",
   "metadata": {
    "id": "jBr-FwFdaIgF"
   },
   "source": [
    "### Decision Tree"
   ]
  },
  {
   "cell_type": "code",
   "execution_count": null,
   "metadata": {
    "colab": {
     "base_uri": "https://localhost:8080/"
    },
    "id": "r2rZYcFlaDXN",
    "outputId": "4ad4ca9e-f818-43e1-9b8c-da43b0c628bc"
   },
   "outputs": [],
   "source": [
    "from sklearn.tree import DecisionTreeClassifier\n",
    "dt = DecisionTreeClassifier(random_state=69)\n",
    "dt.fit(x_smote,y_smote)\n",
    "y_hat1 = dt.predict(x_test)\n",
    "y_hat1"
   ]
  },
  {
   "cell_type": "code",
   "execution_count": null,
   "metadata": {
    "colab": {
     "base_uri": "https://localhost:8080/"
    },
    "id": "1FzWGnzz6ek_",
    "outputId": "f3234cc8-a4f1-4592-cabb-8c0ca34274d6"
   },
   "outputs": [],
   "source": [
    "acc3 = accuracy_score(y_test,y_hat1)\n",
    "acc3"
   ]
  },
  {
   "cell_type": "code",
   "execution_count": null,
   "metadata": {
    "colab": {
     "base_uri": "https://localhost:8080/"
    },
    "id": "r2ti8VOK7dnR",
    "outputId": "607caade-9148-4b63-9109-3382035a1341"
   },
   "outputs": [],
   "source": [
    "f1_4 = f1_score(y_test,y_hat1,average='weighted')\n",
    "f1_4"
   ]
  },
  {
   "cell_type": "code",
   "execution_count": null,
   "metadata": {
    "colab": {
     "base_uri": "https://localhost:8080/"
    },
    "id": "irbMQmjT6lRf",
    "outputId": "ac86023a-c9dc-449e-bcab-200a7f82a08a"
   },
   "outputs": [],
   "source": [
    "print(classification_report(y_test,y_hat1))"
   ]
  },
  {
   "cell_type": "code",
   "execution_count": null,
   "metadata": {
    "colab": {
     "base_uri": "https://localhost:8080/"
    },
    "id": "s8YYqTbJ6saA",
    "outputId": "6261d298-7500-4f98-c38a-c601c8486d29"
   },
   "outputs": [],
   "source": [
    "#creating dictionary--> key value pair of hyperparameters having key as parameter and values as its values\n",
    "params = {\n",
    "    \"criterion\":(\"gini\", \"entropy\"), #quality of split\n",
    "    \"splitter\":(\"best\", \"random\"), # searches the features for a split\n",
    "    \"max_depth\":(list(range(1, 30))), #depth of tree range from 1 to 19\n",
    "    \"min_samples_split\":[2, 3, 4],    #the minimum number of samples required to split internal node\n",
    "    \"min_samples_leaf\":list(range(1, 20)),#minimum number of samples required to be at a leaf node,we are passing list which is range from 1 to 19\n",
    "}\n",
    "\n",
    "\n",
    "tree_clf = DecisionTreeClassifier(random_state=99)#object creation for decision tree with random state 3\n",
    "tree_cv = GridSearchCV(tree_clf, params, scoring=\"accuracy\", n_jobs=-1, verbose=1, cv=3)\n",
    "#passing model to gridsearchCV ,\n",
    "#tree_clf-->model\n",
    "#params---->hyperparametes(dictionary we created)\n",
    "#scoring--->performance matrix to check performance\n",
    "#n_jobs---->Number of jobs to run in parallel,-1 means using all processors.\n",
    "#verbose=Controls the verbosity: the higher, the more messages.\n",
    "#>1 : the computation time for each fold and parameter candidate is displayed;\n",
    "#>2 : the score is also displayed;\n",
    "#>3 : the fold and candidate parameter indexes are also displayed together with the starting time of the computation.\n",
    "#cv------> number of flods\n",
    "\n",
    "\n",
    "\n",
    "\n",
    "tree_cv.fit(x_train,y_train)#training data on gridsearch cv\n",
    "best_params = tree_cv.best_params_#it will give you best parameters\n",
    "print(f\"Best paramters: {best_params})\")#printing  best parameters"
   ]
  },
  {
   "cell_type": "code",
   "execution_count": null,
   "metadata": {
    "colab": {
     "base_uri": "https://localhost:8080/"
    },
    "id": "-Run4Ao48Sba",
    "outputId": "fe3013bc-6aac-4c9e-b1dc-26b512dce993"
   },
   "outputs": [],
   "source": [
    "tree_cv.best_params_ #getting best parameters from cv"
   ]
  },
  {
   "cell_type": "code",
   "execution_count": null,
   "metadata": {
    "id": "9CX4gKly8hbJ"
   },
   "outputs": [],
   "source": [
    "dt1=DecisionTreeClassifier(criterion= 'entropy',\n",
    " max_depth= 7,\n",
    " min_samples_leaf= 1,\n",
    " min_samples_split= 2,\n",
    " splitter= 'random')"
   ]
  },
  {
   "cell_type": "code",
   "execution_count": null,
   "metadata": {
    "colab": {
     "base_uri": "https://localhost:8080/",
     "height": 75
    },
    "id": "0j4LTXT681PE",
    "outputId": "e233db9b-3afe-4600-f74d-224504312f14"
   },
   "outputs": [],
   "source": [
    "dt1.fit(x_smote,y_smote)"
   ]
  },
  {
   "cell_type": "code",
   "execution_count": null,
   "metadata": {
    "colab": {
     "base_uri": "https://localhost:8080/"
    },
    "id": "HBbMWXBy8_3B",
    "outputId": "fc8db810-3ab5-40e4-e9e0-7788699568f9"
   },
   "outputs": [],
   "source": [
    "y_hat1=dt1.predict(x_test)\n",
    "y_hat1"
   ]
  },
  {
   "cell_type": "code",
   "execution_count": null,
   "metadata": {
    "colab": {
     "base_uri": "https://localhost:8080/"
    },
    "id": "JLp3HU3o9M0m",
    "outputId": "6e3b3875-ae4f-40cd-c196-be90ff029e02"
   },
   "outputs": [],
   "source": [
    "acc_hy1=accuracy_score(y_test,y_hat1)\n",
    "acc_hy1"
   ]
  },
  {
   "cell_type": "code",
   "execution_count": null,
   "metadata": {
    "colab": {
     "base_uri": "https://localhost:8080/"
    },
    "id": "kwalBhiA9YVY",
    "outputId": "e1cdc6bb-5bf0-4826-de38-2c019806cd62"
   },
   "outputs": [],
   "source": [
    "test_f1 = f1_score(y_test,y_hat1,average='weighted')\n",
    "test_f1"
   ]
  },
  {
   "cell_type": "markdown",
   "metadata": {
    "id": "ass-ICqC-MKS"
   },
   "source": [
    "### Random Forest"
   ]
  },
  {
   "cell_type": "code",
   "execution_count": null,
   "metadata": {
    "colab": {
     "base_uri": "https://localhost:8080/",
     "height": 75
    },
    "id": "uI3PuwFO9pwz",
    "outputId": "a455a8a6-8f69-4ebf-90bb-405ad883142d"
   },
   "outputs": [],
   "source": [
    "from sklearn.ensemble import RandomForestClassifier\n",
    "\n",
    "rf_clf = RandomForestClassifier(n_estimators=150)\n",
    "rf_clf.fit(x_smote,y_smote)"
   ]
  },
  {
   "cell_type": "code",
   "execution_count": null,
   "metadata": {
    "colab": {
     "base_uri": "https://localhost:8080/"
    },
    "id": "IdmVwFP--5Pb",
    "outputId": "c2b0b4ea-87ad-4fb3-9609-f09f9f14e59d"
   },
   "outputs": [],
   "source": [
    "y_predict = rf_clf.predict(x_test)\n",
    "y_predict"
   ]
  },
  {
   "cell_type": "code",
   "execution_count": null,
   "metadata": {
    "colab": {
     "base_uri": "https://localhost:8080/"
    },
    "id": "5vTN6HNe-_QU",
    "outputId": "0b60b907-8064-4181-8e67-49e9f7411160"
   },
   "outputs": [],
   "source": [
    "acc4 = accuracy_score(y_test,y_predict) #accuracy score\n",
    "acc4"
   ]
  },
  {
   "cell_type": "code",
   "execution_count": null,
   "metadata": {
    "colab": {
     "base_uri": "https://localhost:8080/"
    },
    "id": "Gkocnh1I_J15",
    "outputId": "14bd0b25-7052-43b2-e181-2eaa131f1919"
   },
   "outputs": [],
   "source": [
    "f1_5 = f1_score(y_test,y_predict,average='weighted')\n",
    "f1_5"
   ]
  },
  {
   "cell_type": "code",
   "execution_count": null,
   "metadata": {
    "colab": {
     "base_uri": "https://localhost:8080/"
    },
    "id": "LvpMx4Dx_VnI",
    "outputId": "91f8dc8e-15b0-48eb-c141-64ea02dc6959"
   },
   "outputs": [],
   "source": [
    "#Random Search sets up a grid of hyperparameter values and selects random combinations to train the model and score.\n",
    "#This allows you to explicitly control the number of parameter combinations that are attempted.\n",
    "#The number of search iterations is set based on time or resources.\n",
    "from sklearn.model_selection import RandomizedSearchCV\n",
    "\n",
    "n_estimators = [int(x) for x in np.linspace(start=200, stop=2000, num=10)]#List Comprehension-using for loop in list\n",
    "max_features = ['auto', 'sqrt']#maximum number of features allowed to try in individual tree\n",
    "max_depth = [int(x) for x in np.linspace(10, 110, num=11)]#List Comprehension-using for loop in list\n",
    "max_depth.append(None)\n",
    "min_samples_split = [2, 5, 10]#minimum number of samples required to split an internal node\n",
    "min_samples_leaf = [1, 2, 4]#minimum number of samples required to be at a leaf node.\n",
    "bootstrap = [True, False]#sampling\n",
    "\n",
    "#dictionary for hyperparameters\n",
    "random_grid = {'n_estimators': n_estimators, 'max_features': max_features,\n",
    "               'max_depth': max_depth, 'min_samples_split': min_samples_split,\n",
    "               'min_samples_leaf': min_samples_leaf, 'bootstrap': bootstrap}\n",
    "\n",
    "rf_clf1 = RandomForestClassifier(random_state=42)#model\n",
    "\n",
    "rf_cv = RandomizedSearchCV(estimator=rf_clf1, scoring='accuracy',param_distributions=random_grid, n_iter=100, cv=3,\n",
    "                               verbose=2, random_state=0, n_jobs=-1)\n",
    "#estimator--number of decision tree\n",
    "#scoring--->performance matrix to check performance\n",
    "#param_distribution-->hyperparametes(dictionary we created)\n",
    "#n_iter--->Number of parameter settings that are sampled. n_iter trades off runtime vs quality of the solution.default=10\n",
    "##cv------> number of folds\n",
    "#verbose=Controls the verbosity: the higher, the more messages.\n",
    "#n_jobs---->Number of jobs to run in parallel,-1 means using all processors.\n",
    "\n",
    "rf_cv.fit(x_train, y_train)##training data on randomsearch cv\n",
    "rf_best_params = rf_cv.best_params_##it will give you best parameters\n",
    "print(f\"Best paramters: {rf_best_params})\")##printing  best parameters"
   ]
  },
  {
   "cell_type": "code",
   "execution_count": null,
   "metadata": {
    "id": "FOSqfr8E_au_"
   },
   "outputs": [],
   "source": [
    "rf_clf2 = RandomForestClassifier(n_estimators= 1800, min_samples_split= 10, min_samples_leaf= 1, max_features= 'auto', max_depth= 100, bootstrap= False)"
   ]
  },
  {
   "cell_type": "code",
   "execution_count": null,
   "metadata": {
    "colab": {
     "base_uri": "https://localhost:8080/",
     "height": 92
    },
    "id": "1L8GZl-1BlyD",
    "outputId": "daa99b8f-4f96-40a3-fdb2-28fe30385c54"
   },
   "outputs": [],
   "source": [
    "rf_clf2.fit(x_smote,y_smote)"
   ]
  },
  {
   "cell_type": "code",
   "execution_count": null,
   "metadata": {
    "colab": {
     "base_uri": "https://localhost:8080/"
    },
    "id": "vhOyUmaoBvQy",
    "outputId": "c274f483-bcbb-4a48-f2c5-6f5d62ef01b7"
   },
   "outputs": [],
   "source": [
    "y_predict1 = rf_clf2.predict(x_test)\n",
    "y_predict1"
   ]
  },
  {
   "cell_type": "code",
   "execution_count": null,
   "metadata": {
    "colab": {
     "base_uri": "https://localhost:8080/"
    },
    "id": "jXs-M3WXB4q-",
    "outputId": "fdbe1054-72f2-4763-890d-47dfa2c76832"
   },
   "outputs": [],
   "source": [
    "f1_score5 = f1_score(y_test,y_predict1,average='weighted')\n",
    "f1_score5"
   ]
  },
  {
   "cell_type": "code",
   "execution_count": null,
   "metadata": {
    "colab": {
     "base_uri": "https://localhost:8080/"
    },
    "id": "65cjV35KCZk8",
    "outputId": "be952236-9970-43f4-bdac-325f192b50aa"
   },
   "outputs": [],
   "source": [
    "acc_hy2 = accuracy_score(y_test,y_predict1)\n",
    "acc_hy2"
   ]
  },
  {
   "cell_type": "markdown",
   "metadata": {
    "id": "MvWRW8KDCwlm"
   },
   "source": [
    "### ANN"
   ]
  },
  {
   "cell_type": "code",
   "execution_count": null,
   "metadata": {
    "colab": {
     "base_uri": "https://localhost:8080/",
     "height": 75
    },
    "id": "E0klJ9_UCiZV",
    "outputId": "51503330-8bf8-4d79-e3e5-dc0a1389535f"
   },
   "outputs": [],
   "source": [
    "from sklearn.neural_network import MLPClassifier\n",
    "model = MLPClassifier(hidden_layer_sizes=(100,6),\n",
    "                       learning_rate_init=0.001,\n",
    "                       max_iter=200,random_state=99)\n",
    "model.fit(x_smote,y_smote)"
   ]
  },
  {
   "cell_type": "code",
   "execution_count": null,
   "metadata": {
    "colab": {
     "base_uri": "https://localhost:8080/"
    },
    "id": "AGV_UQwWDsmD",
    "outputId": "a4bb0255-fbce-4b7f-a372-4c167890dd2c"
   },
   "outputs": [],
   "source": [
    "y_predict_proba = model.predict(x_test)\n",
    "y_predict_proba"
   ]
  },
  {
   "cell_type": "code",
   "execution_count": null,
   "metadata": {
    "colab": {
     "base_uri": "https://localhost:8080/"
    },
    "id": "2EVhiBXyD0-J",
    "outputId": "8f45d9ee-1f87-4cdf-fd6e-f93151b02f21"
   },
   "outputs": [],
   "source": [
    "acc5 = accuracy_score(y_test,y_predict_proba)\n",
    "acc5"
   ]
  },
  {
   "cell_type": "code",
   "execution_count": null,
   "metadata": {
    "colab": {
     "base_uri": "https://localhost:8080/"
    },
    "id": "4ThrbRTkEIxU",
    "outputId": "9135a4cc-b5aa-49b7-c4a4-2d59ffc828e0"
   },
   "outputs": [],
   "source": [
    "f1_6 = f1_score(y_test,y_predict_proba,average='weighted')\n",
    "f1_6"
   ]
  },
  {
   "cell_type": "markdown",
   "metadata": {
    "id": "sFqY3TDdEtu6"
   },
   "source": [
    "## Model Comparison Report"
   ]
  },
  {
   "cell_type": "code",
   "execution_count": null,
   "metadata": {
    "id": "jYqsf9LCErgr"
   },
   "outputs": [],
   "source": [
    "# creating model comparison report using DataFrame\n",
    "score = pd.DataFrame({\"Model\":[\"LogisticRegression\",\"KNeighborsClassifier\",\"Support Vector Classifier\",\"DecisionTreeClassifier\",\"RandomForestClassifier\",\"ANN_MLPClassifier\"],\n",
    "                     \"Accuracy\":[acc*100,acc1*100,acc2*100,acc3*100,acc4*100,acc5*100],\n",
    "                     \"With Hyperparameter Tunning\":[\"No Available\",\"No Available\",acc_hy*100,acc_hy1*100,acc_hy2*100,\"No Available\"],\n",
    "                     \"F1_Score\":[f1,f1_2,f1_3,f1_4,f1_5,f1_6]})"
   ]
  },
  {
   "cell_type": "code",
   "execution_count": null,
   "metadata": {
    "colab": {
     "base_uri": "https://localhost:8080/",
     "height": 238
    },
    "id": "6BgCHV7EEytT",
    "outputId": "cbdf3308-a834-4ccf-a8cb-555ed2b5e42e"
   },
   "outputs": [],
   "source": [
    "score #model Comparison Report"
   ]
  },
  {
   "cell_type": "markdown",
   "metadata": {
    "id": "5mpBdrJQFR6W"
   },
   "source": [
    "## Conclusion of Model Comparison Report"
   ]
  },
  {
   "cell_type": "markdown",
   "metadata": {
    "id": "g7UUvuhHFVpB"
   },
   "source": [
    "I have used 6 Algorithmns which name are LogisticRegression,KNeighborsClassifier, Support Vector Classifier, DecisionTreeClassifier,RandomForestClassifier and ANN_MLPClassifier for training the model. I got **98.91** percentage in **LogisticRegression** and also in **RandomForestClassifier**  which are maximum than all Algorithmn and its working Mindblowing and error rate only 1.09 which are miner error and model predict perfect results. So, I am preffering **LogisticRegression** and **RandomForestClassifier** for identify the skin diseases of the patient at the earliest time."
   ]
  },
  {
   "cell_type": "markdown",
   "metadata": {
    "id": "4lgQmtouGH4g"
   },
   "source": [
    "### **Suggestions to the Doctors to identify the skin diseases of the patient at the earliest.**\n",
    "#### where feature is not present.\n",
    "*   A Patient who has feature not present in itiching,koebner phenomnen,polygonal papules,folicular papules,oral mucosal involvement,melanin incontinece,eosinophils_in_the_infiltrate,PNL filtrate,fibrosis_of_the_papillary_dermis,exocythsis, hyperkeartosis,spongiform pustle,munro microbcess,focal hypergranulosis,disappearance_of_the_granular_layer, vacuolisation_and_damage_of_basal_layer,spongiosis,saw teeth apperance of the retes,folicular horn plug,perifolicular parakeratosis,band like infiltrate they all have highest chance of having class 1 (psoriasis) skin dieases problem.\n",
    "*   A Patient who has feature not present in definite border,koebner phenomnen,polygonal papules,folicular papules,oral_mucosal_involvement,knee and elbow envolvement,scalp envolvement,melanin_incontinence, eosinophils_in_the_infiltrate,fibrosis_of_the_papillary_dermis,aconthosis,hyperkeratosis,perakeratosis, clubbing_of_the_rete_ridges,elongation_of_the_rete_ridges,thinning_of_the_suprapapillary_epidermis,spongiform_pustule, munro_microabcess,focal_hypergranulosis,disappearance_of_the_granular_layer,vacuolisation_and_damage_of_basal_layer,saw- tooth_appearance_of_retes,follicular_horn_plug,perifollicular_parakeratosis,inflammatory_monoluclear_inflitrate,band- like_infiltrate they have highest chance of having class 2 (seboreic dermatitis) skin dieases problem.\n",
    "*   A Patient who has feature not present in koebner_phenomenon,folicular papules,knee and elbow envolvement,scalp envolvement,eosinophils_in_the_infiltrate,PNL inflitrate,fibrosis_of_the_papillary_dermis,hyperleratosis,perekeratosis, clubbing_of_the_rete_ridges,elongation_of_the_rete_ridges,thinning_of_the_suprapapillary_epidermis,spongiform pustule, munro_microabcess,disappearance_of_the_granular_layer,spongisis,perifollicular_parakeratosis they have highest chance of having class 3 (lichen planus) skin disorder problem.\n",
    "*   A Patient who has feature not present in definite border,itiching,koebner_phenomenon,polygonals papules,folicular papules,oral_mucosal_involvement,knee_and_elbow_involvement,scalp involvement,melanin_incontinence, eosinophils_in_the_infiltrate,PNL infiltrate,fibrosis_of_the_papillary_dermis,acanthosis,hyperkeratosis,perekeratosis, clubbing_of_the_rete_ridges,elongation_of_the_rete_ridges,thinning_of_the_suprapapillary_epidermis,spongiform_pustule, munro_microabcess,focal_hypergranulosis,disappearance_of_the_granular_layer,vacuolisation_and_damage_of_basal_layer, saw- tooth_appearance_of_retes,follicular_horn_plug,perifollicular_parakeratosis,band-like_infiltrate they all have highest chance of having class 4 (pityriasis rosea) skin dieases problem.\n",
    "*   A Patient who has feature not present in erythema,definite border,scaling,itiching,koebner phenomnen,polygonal_papules, follicular_papules,oral_mucosal_involvement,knee_and_elbow_involvement,scalp involvement,melanin_incontinence, eosinophils_in_the_infiltrate,PNL infiltrate,exocytosis,hyperkeratosis,perakeratosis,clubbing_of_the_rete_ridges, thinning_of_the_suprapapillary_epidermis,spongiform_pustule,munro_microabcess,focal_hypergranulosis, disappearance_of_the_granular_layer,vacuolisation_and_damage_of_basal_layer,spongiosis,saw-tooth_appearance_of_retes, folicular horn plug,perifollicular_parakeratosis,band-like_infiltrate they all have highest chance of having class 5 (cronic dermatitis) skin disorder problem.\n",
    "*   A Patient who has feature not present in definite border,itiching,koebner_phenomenon,polygonal papules,munro_microabcess, oral_mucosal_involvement,scalp involvement,melanin_incontinence,eosinophils_in_the_infiltrate,PNL inftitrate, fibrosis_of_the_papillary_dermis,clubbing_of_the_rete_ridges,elongation_of_the_rete_ridges,spongiform_pustule, thinning_of_the_suprapapillary_epidermis,focal_hypergranulosis,disappearance_of_the_granular_layer,saw- tooth_appearance_of_retes,vacuolisation_and_damage_of_basal_layer,band-like_infiltrate they all have highest chance of having class 6 (pityriasis rubra pilaris) skin disorder problem.\n",
    "\n",
    "#### Intermediate level of skin dieases.\n",
    "\n",
    "*   A Patient who has intermediate level of erythema,scaling,definite border,knee and elbow envolvement,scalp envolvement,PNL infitrate,acanthosis,hyperkertosis,parakeratosis,clubbing of the rate ridge,elegation of the rate ridge,sponiform pustle,munro microbsess,disapperiance of the granular layer,inflammatory monoluclear inifitrate they all have highest chance of having class 1 (psoriasis) skin disorder problem.\n",
    "*   A Patient who has intermediate level of erythema,scaling,definite border,itiching,koebner phonomenon,poligonal papules,oral mucosal invlovement,melanin incontience,exocytosis,acanthosis,focal hypergranulosis,vacuolisation and damage of base layer,saw tooth apperance of retes,inflammatory monocular inflitrate they all have highest chance og having class 3 (lichen planus) skin dieases problem.\n",
    "*   A Patient who has intermediate level of erythema,scaling,itiching,PNLinflatrate,expcytosis,acanthosis,spngosis, inflammatory monoluclear inifitrate they all have highest chance of having class 2 (seboreic dermatitis) skin dieases problem.\n",
    "*   A Patient who has intermediate level of erythema,scaling,definite border,koebner phonemnon,exocytosis,acanthosis,perakeratosis,spongiosis,inflammatory monoluclear inifitrate they all have highest chance of having class 4 (pityriasis rosea) skin dieases problem.\n",
    "*   A Patient who has intermediate level of erythema,itiching,fibrosis of the papilarydermis,aconthosis,hyperkeratosis, perakeratosis,elegation of the rete ridges,inflammatory monoluclear inifitrate they all have highest chance of having class 5 (cronic dermatitis) skin dieases problem.\n",
    "*   A Patient who has intermediate level of erythema,scaling,folicular papules,knee and elbow envolvement,scalp involvement,acanthosis,hyperkeartosis,folicular horn plug,perifolicular perakeratosis they all have highest chance of having class 6 (pityriasis rubra pilaris) skin dieases problem.\n",
    "\n",
    "#### High chances of skin dieases.\n",
    "\n",
    "*   A Patient who have largest amount possible of erythema,scaling,definite border,itiching,knee and elbow envolvement,scalp envolvement,PNL infiltrate,acanthosis,hyperkeratosis,perekeratosis,clubbing_of_the_rete_ridges, elongation_of_the_rete_ridges,thinning_of_the_suprapapillary_epidermis,spongiform_pustule,munro_microabcess, disappearance_of_the_granular_layer,inflammatory_monoluclear_inflitrate they all have highest chance of having class 1 (psoriasis) skin disorder problem.\n",
    "*   A Patient who have largest amount possible of erythema,scaling,itiching,eosinophils_in_the_infiltrate,PNL infiltrate,exocytosis,acanthosis,spongiosis,inflammatory_monoluclear_inflitrate they all have highest chance of having class 2 (seboreic dermatitis) skin disorder problem.\n",
    "*   A Patient who have largest amount possible of erythema,scaling,definite border,itiching,koebner_phenomenon, polygonal_papules,band-like_infiltrate oral_mucosal_involvement,melanin_incontinence,exocytosis,acanthosis, focal_hypergranulosis,spongiosis,vacuolisation_and_damage_of_basal_layer,saw-tooth_appearance_of_retes, inflammatory_monoluclear_inflitrate they all having highest chance of class 3 (lichen planus) skin disorder problem.\n",
    "*   A Patient who have largest amount possible of erythema,koebner_phenomenon,exocytosis,spongiosis, inflammatory_monoluclear_inflitrate they all have highest chance of having class 4 (pityriasis rosea) skin disorder problem.\n",
    "*   A Patient who have largest amount possible of erythema,scaling,definite border,itiching,fibrosis_of_the_papillary_dermis, acanthosis,elongation_of_the_rete_ridges,inflammatory_monoluclear_inflitrate they all have highest chance of having class 5 (cronic dermatitis) skin disorder problem.\n",
    "*   A Patient who have largest amount possible of erythema,follicular_papules,knee_and_elbow_involvement,exocytosis, spongiosis,follicular_horn_plug,perifollicular_parakeratosis,inflammatory_monoluclear_inflitrate they all have highest chance of having class 6 (pityriasis rubra pilaris) skin disorder problem.\n",
    "*   Patient whose family has no skin dieases they have high chance of having class 1 and 3, and 50-50% chance of 2,4 and 5 and those patient which family has skin dieases they have high chance of having class 1 and 6.\n",
    "\n",
    "#### By follow this all instructions doctors can find any skin disorder of class 6 class qiuckly."
   ]
  },
  {
   "cell_type": "markdown",
   "metadata": {
    "id": "D2yieitDHAfd"
   },
   "source": [
    "#### Report on Challenges I faced\n",
    "\n",
    "This database contains 34 attributes, 33 of which are linear valued and one of them is nominal. This is a skin dieases dataset which 366 entries, 0 to 365 total columns and total 35 columns it has only one columns having object type and all of them are integers type. In this dataset most tough things are getting insights from data after working of 1 to 2 days I got insights. After thats every things are easy I did very easily and no more challenges I faced in this datasets."
   ]
  }
 ],
 "metadata": {
  "colab": {
   "provenance": []
  },
  "kernelspec": {
   "display_name": "Python 3 (ipykernel)",
   "language": "python",
   "name": "python3"
  },
  "language_info": {
   "codemirror_mode": {
    "name": "ipython",
    "version": 3
   },
   "file_extension": ".py",
   "mimetype": "text/x-python",
   "name": "python",
   "nbconvert_exporter": "python",
   "pygments_lexer": "ipython3",
   "version": "3.11.4"
  },
  "widgets": {
   "application/vnd.jupyter.widget-state+json": {
    "0b46dba713994f13b5ded5aa6459205c": {
     "model_module": "@jupyter-widgets/base",
     "model_module_version": "1.2.0",
     "model_name": "LayoutModel",
     "state": {
      "_model_module": "@jupyter-widgets/base",
      "_model_module_version": "1.2.0",
      "_model_name": "LayoutModel",
      "_view_count": null,
      "_view_module": "@jupyter-widgets/base",
      "_view_module_version": "1.2.0",
      "_view_name": "LayoutView",
      "align_content": null,
      "align_items": null,
      "align_self": null,
      "border": null,
      "bottom": null,
      "display": null,
      "flex": null,
      "flex_flow": null,
      "grid_area": null,
      "grid_auto_columns": null,
      "grid_auto_flow": null,
      "grid_auto_rows": null,
      "grid_column": null,
      "grid_gap": null,
      "grid_row": null,
      "grid_template_areas": null,
      "grid_template_columns": null,
      "grid_template_rows": null,
      "height": null,
      "justify_content": null,
      "justify_items": null,
      "left": null,
      "margin": null,
      "max_height": null,
      "max_width": null,
      "min_height": null,
      "min_width": null,
      "object_fit": null,
      "object_position": null,
      "order": null,
      "overflow": null,
      "overflow_x": null,
      "overflow_y": null,
      "padding": null,
      "right": null,
      "top": null,
      "visibility": null,
      "width": null
     }
    },
    "0ed76f86d02f4ae1a95ca37170357fad": {
     "model_module": "@jupyter-widgets/controls",
     "model_module_version": "1.5.0",
     "model_name": "HBoxModel",
     "state": {
      "_dom_classes": [],
      "_model_module": "@jupyter-widgets/controls",
      "_model_module_version": "1.5.0",
      "_model_name": "HBoxModel",
      "_view_count": null,
      "_view_module": "@jupyter-widgets/controls",
      "_view_module_version": "1.5.0",
      "_view_name": "HBoxView",
      "box_style": "",
      "children": [
       "IPY_MODEL_9cfa3e4eb2a649a18551d0149cf56d9b",
       "IPY_MODEL_e3a4dde556014c7f9427578d157da728",
       "IPY_MODEL_d60d7d99d8574dccb86a2f029af39e78"
      ],
      "layout": "IPY_MODEL_a4d29c7115894a88900e1ea96a2092c3"
     }
    },
    "30e37698ddff4fc5a1b4e2b3be49fb38": {
     "model_module": "@jupyter-widgets/controls",
     "model_module_version": "1.5.0",
     "model_name": "DescriptionStyleModel",
     "state": {
      "_model_module": "@jupyter-widgets/controls",
      "_model_module_version": "1.5.0",
      "_model_name": "DescriptionStyleModel",
      "_view_count": null,
      "_view_module": "@jupyter-widgets/base",
      "_view_module_version": "1.2.0",
      "_view_name": "StyleView",
      "description_width": ""
     }
    },
    "6060634e2a094494a733cd7d1df8c408": {
     "model_module": "@jupyter-widgets/base",
     "model_module_version": "1.2.0",
     "model_name": "LayoutModel",
     "state": {
      "_model_module": "@jupyter-widgets/base",
      "_model_module_version": "1.2.0",
      "_model_name": "LayoutModel",
      "_view_count": null,
      "_view_module": "@jupyter-widgets/base",
      "_view_module_version": "1.2.0",
      "_view_name": "LayoutView",
      "align_content": null,
      "align_items": null,
      "align_self": null,
      "border": null,
      "bottom": null,
      "display": null,
      "flex": "2",
      "flex_flow": null,
      "grid_area": null,
      "grid_auto_columns": null,
      "grid_auto_flow": null,
      "grid_auto_rows": null,
      "grid_column": null,
      "grid_gap": null,
      "grid_row": null,
      "grid_template_areas": null,
      "grid_template_columns": null,
      "grid_template_rows": null,
      "height": null,
      "justify_content": null,
      "justify_items": null,
      "left": null,
      "margin": null,
      "max_height": null,
      "max_width": null,
      "min_height": null,
      "min_width": null,
      "object_fit": null,
      "object_position": null,
      "order": null,
      "overflow": null,
      "overflow_x": null,
      "overflow_y": null,
      "padding": null,
      "right": null,
      "top": null,
      "visibility": null,
      "width": null
     }
    },
    "696ccdd9ffee44c38b0ced32759ad88a": {
     "model_module": "@jupyter-widgets/base",
     "model_module_version": "1.2.0",
     "model_name": "LayoutModel",
     "state": {
      "_model_module": "@jupyter-widgets/base",
      "_model_module_version": "1.2.0",
      "_model_name": "LayoutModel",
      "_view_count": null,
      "_view_module": "@jupyter-widgets/base",
      "_view_module_version": "1.2.0",
      "_view_name": "LayoutView",
      "align_content": null,
      "align_items": null,
      "align_self": null,
      "border": null,
      "bottom": null,
      "display": null,
      "flex": null,
      "flex_flow": null,
      "grid_area": null,
      "grid_auto_columns": null,
      "grid_auto_flow": null,
      "grid_auto_rows": null,
      "grid_column": null,
      "grid_gap": null,
      "grid_row": null,
      "grid_template_areas": null,
      "grid_template_columns": null,
      "grid_template_rows": null,
      "height": null,
      "justify_content": null,
      "justify_items": null,
      "left": null,
      "margin": null,
      "max_height": null,
      "max_width": null,
      "min_height": null,
      "min_width": null,
      "object_fit": null,
      "object_position": null,
      "order": null,
      "overflow": null,
      "overflow_x": null,
      "overflow_y": null,
      "padding": null,
      "right": null,
      "top": null,
      "visibility": null,
      "width": null
     }
    },
    "93e62c2e94fa4b0394be330e7f84ba6b": {
     "model_module": "@jupyter-widgets/controls",
     "model_module_version": "1.5.0",
     "model_name": "DescriptionStyleModel",
     "state": {
      "_model_module": "@jupyter-widgets/controls",
      "_model_module_version": "1.5.0",
      "_model_name": "DescriptionStyleModel",
      "_view_count": null,
      "_view_module": "@jupyter-widgets/base",
      "_view_module_version": "1.2.0",
      "_view_name": "StyleView",
      "description_width": ""
     }
    },
    "9cfa3e4eb2a649a18551d0149cf56d9b": {
     "model_module": "@jupyter-widgets/controls",
     "model_module_version": "1.5.0",
     "model_name": "HTMLModel",
     "state": {
      "_dom_classes": [],
      "_model_module": "@jupyter-widgets/controls",
      "_model_module_version": "1.5.0",
      "_model_name": "HTMLModel",
      "_view_count": null,
      "_view_module": "@jupyter-widgets/controls",
      "_view_module_version": "1.5.0",
      "_view_name": "HTMLView",
      "description": "",
      "description_tooltip": null,
      "layout": "IPY_MODEL_0b46dba713994f13b5ded5aa6459205c",
      "placeholder": "​",
      "style": "IPY_MODEL_30e37698ddff4fc5a1b4e2b3be49fb38",
      "value": "Done! Use &#x27;show&#x27; commands to display/save.   "
     }
    },
    "a4d29c7115894a88900e1ea96a2092c3": {
     "model_module": "@jupyter-widgets/base",
     "model_module_version": "1.2.0",
     "model_name": "LayoutModel",
     "state": {
      "_model_module": "@jupyter-widgets/base",
      "_model_module_version": "1.2.0",
      "_model_name": "LayoutModel",
      "_view_count": null,
      "_view_module": "@jupyter-widgets/base",
      "_view_module_version": "1.2.0",
      "_view_name": "LayoutView",
      "align_content": null,
      "align_items": null,
      "align_self": null,
      "border": null,
      "bottom": null,
      "display": "inline-flex",
      "flex": null,
      "flex_flow": "row wrap",
      "grid_area": null,
      "grid_auto_columns": null,
      "grid_auto_flow": null,
      "grid_auto_rows": null,
      "grid_column": null,
      "grid_gap": null,
      "grid_row": null,
      "grid_template_areas": null,
      "grid_template_columns": null,
      "grid_template_rows": null,
      "height": null,
      "justify_content": null,
      "justify_items": null,
      "left": null,
      "margin": null,
      "max_height": null,
      "max_width": null,
      "min_height": null,
      "min_width": null,
      "object_fit": null,
      "object_position": null,
      "order": null,
      "overflow": null,
      "overflow_x": null,
      "overflow_y": null,
      "padding": null,
      "right": null,
      "top": null,
      "visibility": null,
      "width": "100%"
     }
    },
    "ab96546d98b146ea87758143fc7d9bd4": {
     "model_module": "@jupyter-widgets/controls",
     "model_module_version": "1.5.0",
     "model_name": "ProgressStyleModel",
     "state": {
      "_model_module": "@jupyter-widgets/controls",
      "_model_module_version": "1.5.0",
      "_model_name": "ProgressStyleModel",
      "_view_count": null,
      "_view_module": "@jupyter-widgets/base",
      "_view_module_version": "1.2.0",
      "_view_name": "StyleView",
      "bar_color": null,
      "description_width": ""
     }
    },
    "d60d7d99d8574dccb86a2f029af39e78": {
     "model_module": "@jupyter-widgets/controls",
     "model_module_version": "1.5.0",
     "model_name": "HTMLModel",
     "state": {
      "_dom_classes": [],
      "_model_module": "@jupyter-widgets/controls",
      "_model_module_version": "1.5.0",
      "_model_name": "HTMLModel",
      "_view_count": null,
      "_view_module": "@jupyter-widgets/controls",
      "_view_module_version": "1.5.0",
      "_view_name": "HTMLView",
      "description": "",
      "description_tooltip": null,
      "layout": "IPY_MODEL_696ccdd9ffee44c38b0ced32759ad88a",
      "placeholder": "​",
      "style": "IPY_MODEL_93e62c2e94fa4b0394be330e7f84ba6b",
      "value": " [100%]   00:02 -&gt; (00:00 left)"
     }
    },
    "e3a4dde556014c7f9427578d157da728": {
     "model_module": "@jupyter-widgets/controls",
     "model_module_version": "1.5.0",
     "model_name": "FloatProgressModel",
     "state": {
      "_dom_classes": [],
      "_model_module": "@jupyter-widgets/controls",
      "_model_module_version": "1.5.0",
      "_model_name": "FloatProgressModel",
      "_view_count": null,
      "_view_module": "@jupyter-widgets/controls",
      "_view_module_version": "1.5.0",
      "_view_name": "ProgressView",
      "bar_style": "success",
      "description": "",
      "description_tooltip": null,
      "layout": "IPY_MODEL_6060634e2a094494a733cd7d1df8c408",
      "max": 1,
      "min": 0,
      "orientation": "horizontal",
      "style": "IPY_MODEL_ab96546d98b146ea87758143fc7d9bd4",
      "value": 1
     }
    }
   }
  }
 },
 "nbformat": 4,
 "nbformat_minor": 1
}
